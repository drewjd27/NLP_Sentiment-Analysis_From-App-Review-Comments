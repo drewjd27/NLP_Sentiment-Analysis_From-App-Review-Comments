{
 "cells": [
  {
   "cell_type": "markdown",
   "id": "4536dc5d",
   "metadata": {},
   "source": [
    "# Import Library"
   ]
  },
  {
   "cell_type": "code",
   "execution_count": 1,
   "id": "4c8272e8",
   "metadata": {},
   "outputs": [],
   "source": [
    "# Mengimpor pustaka google_play_scraper untuk mengakses ulasan dan informasi aplikasi dari Google Play Store.\n",
    "from google_play_scraper import app, reviews, Sort, reviews_all\n",
    "import pandas as pd  # Pandas untuk manipulasi dan analisis data\n",
    "import csv\n",
    "from tqdm import tqdm"
   ]
  },
  {
   "cell_type": "markdown",
   "id": "d9cbc468",
   "metadata": {},
   "source": [
    "# Scraping Dataset"
   ]
  },
  {
   "cell_type": "code",
   "execution_count": 2,
   "id": "ed6e0a71",
   "metadata": {},
   "outputs": [],
   "source": [
    "reviews_count = 20000"
   ]
  },
  {
   "cell_type": "code",
   "execution_count": 3,
   "id": "9979f41c",
   "metadata": {},
   "outputs": [
    {
     "name": "stderr",
     "output_type": "stream",
     "text": [
      "20099it [02:45, 121.61it/s]                           \n"
     ]
    }
   ],
   "source": [
    "result = []\n",
    "continuation_token = None\n",
    "\n",
    "\n",
    "with tqdm(total=reviews_count, position=0, leave=True) as pbar:\n",
    "    while len(result) < reviews_count:\n",
    "        new_result, continuation_token = reviews(\n",
    "            'id.co.bri.brimo',\n",
    "            continuation_token=continuation_token,\n",
    "            lang='id', #The language of review\n",
    "            country='id', #Country for which you want to scrape \n",
    "            sort=Sort.NEWEST,\n",
    "            filter_score_with=None,\n",
    "            count=199 #No need to change this\n",
    "        )\n",
    "        if not new_result:\n",
    "            break\n",
    "        result.extend(new_result)\n",
    "        pbar.update(len(new_result))"
   ]
  },
  {
   "cell_type": "code",
   "execution_count": 4,
   "id": "ba6478f9",
   "metadata": {},
   "outputs": [],
   "source": [
    "# # Mengambil semua ulasan dari aplikasi dengan ID 'com.byu.id' di Google Play Store.\n",
    "# # Proses scraping mungkin memerlukan beberapa saat tergantung pada jumlah ulasan yang ada.\n",
    "# scrapreview = reviews(\n",
    "#     'id.co.bri.brimo',          # ID aplikasi\n",
    "#     lang='id',             # Bahasa ulasan (default: 'en')\n",
    "#     country='id',          # Negara (default: 'us')\n",
    "#     sort=Sort.NEWEST, # Urutan ulasan (default: Sort.MOST_RELEVANT)\n",
    "#     count=20000            # Jumlah maksimum ulasan yang ingin diambil\n",
    "# )"
   ]
  },
  {
   "cell_type": "markdown",
   "id": "deab05fe",
   "metadata": {},
   "source": [
    "# Menyimpan hasil scraping ke dalam dataset dalam bentuk csv"
   ]
  },
  {
   "cell_type": "code",
   "execution_count": 6,
   "id": "097bda30",
   "metadata": {},
   "outputs": [],
   "source": [
    "with open('ulasan_aplikasi.csv', mode='w', newline='', encoding='utf-8') as file:\n",
    "    writer = csv.writer(file)\n",
    "    writer.writerow(['Review'])  # Menulis header kolom\n",
    "    for review in result:\n",
    "        writer.writerow([review['content']])  # Menulis konten ulasan ke dalam file CSV"
   ]
  },
  {
   "cell_type": "code",
   "execution_count": 7,
   "id": "8dacf7b3",
   "metadata": {},
   "outputs": [],
   "source": [
    "app_reviews_df = pd.DataFrame(result)\n",
    "app_reviews_df.shape\n",
    "app_reviews_df.head()\n",
    "app_reviews_df.to_csv('ulasan_aplikasi.csv', index=False)\n",
    " \n",
    "# Membuat DataFrame dari hasil scrapreview\n",
    "app_reviews_df = pd.DataFrame(result)\n",
    " \n",
    "# Menghitung jumlah baris dan kolom dalam DataFrame\n",
    "jumlah_ulasan, jumlah_kolom = app_reviews_df.shape"
   ]
  },
  {
   "cell_type": "code",
   "execution_count": null,
   "id": "46ef1f3d",
   "metadata": {},
   "outputs": [],
   "source": []
  }
 ],
 "metadata": {
  "kernelspec": {
   "display_name": "Python 3",
   "language": "python",
   "name": "python3"
  },
  "language_info": {
   "codemirror_mode": {
    "name": "ipython",
    "version": 3
   },
   "file_extension": ".py",
   "mimetype": "text/x-python",
   "name": "python",
   "nbconvert_exporter": "python",
   "pygments_lexer": "ipython3",
   "version": "3.11.9"
  }
 },
 "nbformat": 4,
 "nbformat_minor": 5
}
